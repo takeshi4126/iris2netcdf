{
 "cells": [
  {
   "cell_type": "markdown",
   "metadata": {},
   "source": [
    "Copyright 2024 International Meteorological Consultant Inc.\n",
    "\n",
    "THE SOFTWARE IS PROVIDED \"AS IS\", WITHOUT WARRANTY OF ANY KIND, EXPRESS OR IMPLIED, INCLUDING BUT NOT \n",
    "LIMITED TO THE WARRANTIES OF MERCHANTABILITY, FITNESS FOR A PARTICULAR PURPOSE AND NONINFRINGEMENT. \n",
    "IN NO EVENT SHALL THE AUTHORS OR COPYRIGHT HOLDERS BE LIABLE FOR ANY CLAIM, DAMAGES OR OTHER LIABILITY, \n",
    "WHETHER IN AN ACTION OF CONTRACT, TORT OR OTHERWISE, ARISING FROM, OUT OF OR IN CONNECTION WITH THE \n",
    "SOFTWARE OR THE USE OR OTHER DEALINGS IN THE SOFTWARE."
   ]
  },
  {
   "cell_type": "markdown",
   "metadata": {},
   "source": [
    "# Overview\n",
    "\n",
    "This jupyter notebook contains the code to read iris raw data files produced by the cox's bazar, kepupara and moulvibazar radars, and convert the data into the netcdf4 format, by using the wradlib library.\n",
    "\n",
    "[https://docs.wradlib.org/en/latest/index.html]\n"
   ]
  },
  {
   "cell_type": "markdown",
   "metadata": {},
   "source": [
    "### Import required libraries including the wradlib."
   ]
  },
  {
   "cell_type": "code",
   "execution_count": null,
   "metadata": {},
   "outputs": [],
   "source": [
    "import time\n",
    "import math\n",
    "import os\n",
    "\n",
    "import xarray as xr\n",
    "import wradlib # Tested with wradlib version 2.0.3\n",
    "import numpy as np\n",
    "from cftime import date2num\n",
    "from netCDF4 import Dataset #pylint: disable=no-name-in-module"
   ]
  },
  {
   "cell_type": "markdown",
   "metadata": {},
   "source": [
    "Set some constant values"
   ]
  },
  {
   "cell_type": "code",
   "execution_count": null,
   "metadata": {},
   "outputs": [],
   "source": [
    "# Earth Radius at the equator and at the pole in meter.\n",
    "EQUATORIAL_RADIUS = 6378.1370 * 1000\n",
    "POLAR_RADIUS = 6356.7523 * 1000\n",
    "INSTITUTION = \"Bangladesh Meteorological Department\"\n",
    "# INTERPOLATION = wradlib.ipol.Nearest\n",
    "INTERPOLATION = wradlib.ipol.Idw"
   ]
  },
  {
   "cell_type": "markdown",
   "metadata": {},
   "source": [
    "### init\n",
    "\n",
    "Please set the following variables."
   ]
  },
  {
   "cell_type": "code",
   "execution_count": null,
   "metadata": {},
   "outputs": [],
   "source": [
    "iris_raw_data_file = \"./MLV_raw_201303/MLV130322030018.RAWHUKN\" # IRIS file path to be opened.\n",
    "output_file_path = \"./mlv_notebook_test.nc\" # netcdf file path to be created.\n",
    "output_unit = \"mmh\" # either \"mmh\" (mm/h rain intensity) or \"dbz\" (radar reflectivity)\n",
    "image_width = 360\n",
    "image_height = 360"
   ]
  },
  {
   "cell_type": "markdown",
   "metadata": {},
   "source": [
    "Open the set iris raw file and read the contents by using read_iris function of the wradlib."
   ]
  },
  {
   "cell_type": "code",
   "execution_count": null,
   "metadata": {},
   "outputs": [],
   "source": [
    "with open(iris_raw_data_file, mode=\"rb\") as f:\n",
    "  iris_content = wradlib.io.read_iris(f, debug=False)\n",
    "\n",
    "# Get the file name of the given iris file path. This is used as a metadata in the netcdf file later.\n",
    "file_name = os.path.basename(iris_raw_data_file)"
   ]
  },
  {
   "cell_type": "markdown",
   "metadata": {},
   "source": [
    "### __read_iris_header_part\n",
    "\n",
    "Read the header part of the IRIS raw data in the iris_content variable."
   ]
  },
  {
   "cell_type": "code",
   "execution_count": null,
   "metadata": {},
   "outputs": [],
   "source": [
    "product_hdr = iris_content['product_hdr']\n",
    "product_config = iris_content['product_hdr']['product_configuration']\n",
    "product_type = iris_content['product_type']\n",
    "if product_type != 'RAW':\n",
    "  raise ValueError(\"This IRIS file is not a RAW data file. It is not supported.\")\n",
    "\n",
    "beta = product_config['zr_exponent'] / 1000\n",
    "B = product_config['zr_constant'] / 1000\n",
    "\n",
    "# generation_time as a datetime object.\n",
    "generation_time = product_config['generation_time']\n",
    "# product name looks like 'PPI_A_Z   '. Watch out the trailing spaces.\n",
    "product_name = product_config['product_name']\n",
    "\n",
    "# task name looks like 'PPI_A     '. Watch out the trailing spaces.\n",
    "task_name = product_config['task_name']\n",
    "\n",
    "product_end = product_hdr['product_end']\n",
    "radar_lat = product_end['latitude']\n",
    "radar_lon = product_end['longitude']\n",
    "center = {'lat': radar_lat, 'lon': radar_lon}\n",
    "ground_height = product_end['ground_height']\n",
    "radar_height = product_end['radar_height']\n",
    "radar_site_name = product_end['site_name']\n",
    "radar_number_bins = product_end['number_bins']\n",
    "last_bin_range  = product_end['last_bin_range']\n",
    "radius = last_bin_range / 100 # It is stored in cm. Convert it to meter."
   ]
  },
  {
   "cell_type": "markdown",
   "metadata": {},
   "source": [
    "### __read_iris_data_part\n",
    "\n",
    "Read the data part of the IRIS raw data in the iris_content variable."
   ]
  },
  {
   "cell_type": "code",
   "execution_count": null,
   "metadata": {},
   "outputs": [],
   "source": [
    "sweep_data = iris_content['data'][1]['sweep_data']\n",
    "\n",
    "# DB_DBZ is a ndarray of shape (360, 352). 360 degrees x 352 range bins.\n",
    "dbz_polar = sweep_data['DB_DBZ']\n",
    "\n",
    "# azimuth is of shape (360,) and contains the azimuth angles in degrees.\n",
    "azimuth = sweep_data['azimuth']\n",
    "\n",
    "# the array of elevations. The array size is 360.\n",
    "elevation = sweep_data['elevation']\n",
    "\n",
    "# Number of range bins for each azimuth. rbins is of shape (360, ). It contains 352 for all az.\n",
    "rbins = sweep_data['rbins']\n",
    "\n",
    "# Calculate the bin size\n",
    "bin_size = radius / rbins[0]"
   ]
  },
  {
   "cell_type": "markdown",
   "metadata": {},
   "source": [
    "### polar to cartesian\n",
    "\n",
    "Georeference and reproject the data into EPSG:4326"
   ]
  },
  {
   "cell_type": "code",
   "execution_count": null,
   "metadata": {},
   "outputs": [],
   "source": [
    "data = dbz_polar\n",
    "radar_location = (center['lon'], center['lat'], ground_height + radar_height)\n",
    "da = wradlib.georef.create_xarray_dataarray(\n",
    "    data,\n",
    "    r=np.arange(bin_size / 2, data.shape[1] * bin_size + bin_size / 2, bin_size),\n",
    "    phi=azimuth,\n",
    "    theta=elevation,\n",
    "    site=radar_location,\n",
    "    sweep_mode=\"azimuth_surveillance\",\n",
    ")\n",
    "da.wrl.georef.georeference()\n",
    "# Reproject the data into EPSG:4326\n",
    "data_array = da.wrl.georef.reproject(trg_crs=wradlib.georef.epsg_to_osr(4326))"
   ]
  },
  {
   "cell_type": "markdown",
   "metadata": {},
   "source": [
    "### transform\n",
    "\n",
    "Convert the radar reflectivity into rain intensity"
   ]
  },
  {
   "cell_type": "code",
   "execution_count": null,
   "metadata": {},
   "outputs": [],
   "source": [
    "if output_unit == 'mmh':\n",
    "  # Convert the radar reflectivity from dbz to Z(mm6/m3)\n",
    "  Z = data_array.wrl.trafo.idecibel()\n",
    "  # Calculate the rain intensity from Z(mm6/m3) ot R(mm/h)\n",
    "  R = Z.wrl.zr.z_to_r(a=B, b=beta)\n",
    "  data_array.values = R\n",
    "  display(\"min R = %f, max R = %f\" % (R.min(), R.max()))\n",
    "elif output_unit == 'dbz':\n",
    "  pass\n",
    "else:\n",
    "  raise ValueError(f\"Unsupported output_unit {output_unit}\")\n",
    "\n",
    "data_array.plot(x=\"x\", y=\"y\")"
   ]
  },
  {
   "cell_type": "markdown",
   "metadata": {},
   "source": [
    "### output_netcdf\n",
    "\n",
    "Transform the radial data into grid data."
   ]
  },
  {
   "cell_type": "code",
   "execution_count": null,
   "metadata": {},
   "outputs": [],
   "source": [
    "out = output_file_path\n",
    "nc = Dataset(out, \"w\", format=\"NETCDF4\")\n",
    "nc.title = file_name\n",
    "nc.history = \"Created \" + time.ctime(time.time())\n",
    "nc.Conventions = 'CF-1.6'\n",
    "nc.institution = INSTITUTION\n",
    "\n",
    "# Distance per 1-degree latitude\n",
    "lat_dist = (2 * math.pi * POLAR_RADIUS) / 360\n",
    "lon_dist = (2 * math.pi * EQUATORIAL_RADIUS) / 360\n",
    "\n",
    "# Create the grid data.\n",
    "lat_array = np.linspace(center['lat'] - radius / lat_dist, center['lat'] + radius / lat_dist, image_height)\n",
    "lon_array = np.linspace(center['lon'] - radius / lon_dist, center['lon'] + radius / lon_dist, image_width)\n",
    "cart = xr.Dataset(coords={\"x\": ([\"x\"], lon_array), \"y\": ([\"y\"], lat_array)})\n",
    "grid_data = data_array.wrl.comp.togrid(\n",
    "  cart, radius=radius, center=(center['lon'], center['lat']), interpol=INTERPOLATION\n",
    ")\n",
    "grid_data.plot()"
   ]
  },
  {
   "cell_type": "markdown",
   "metadata": {},
   "source": [
    "Create the netcdf file."
   ]
  },
  {
   "cell_type": "code",
   "execution_count": null,
   "metadata": {},
   "outputs": [],
   "source": [
    "# Create dimensions\n",
    "nc.createDimension(\"time\", 1)\n",
    "nc.createDimension(\"lat\", len(lat_array))\n",
    "nc.createDimension(\"lon\", len(lon_array))\n",
    "\n",
    "# Create variables (time, lat, lon, precipitation_rate)\n",
    "times = nc.createVariable(\"time\",\"f4\",(\"time\",))\n",
    "times.units = \"hours since 0001-01-01 00:00:00.0\"\n",
    "times.calendar = \"standard\"\n",
    "dates = [generation_time]\n",
    "times[:] = date2num(dates,units=times.units,calendar=times.calendar)\n",
    "\n",
    "latitudes = nc.createVariable(\"lat\",\"f4\",(\"lat\",))\n",
    "latitudes.units = \"degrees_north\"\n",
    "latitudes.long_name = \"latitude\"\n",
    "latitudes[:] = lat_array\n",
    "\n",
    "longitudes = nc.createVariable(\"lon\",\"f4\",(\"lon\",))\n",
    "longitudes.units = \"degrees_east\"\n",
    "longitudes.long_name = \"longitude\"\n",
    "longitudes[:] = lon_array\n",
    "\n",
    "precipitation_rate = nc.createVariable(\"precipitation_rate\",\"f4\",(\"time\", \"lat\", \"lon\"))\n",
    "precipitation_rate.units = \"mm/h\" if output_unit == \"mmh\" else \"dbz\"\n",
    "precipitation_rate.long_name = \"precipitation rate\"\n",
    "precipitation_rate[0,:,:] = grid_data.values\n",
    "\n",
    "display(\"min R = %f, max R = %f\" % (precipitation_rate[0,:,:].min(), precipitation_rate[0,:,:].max()))\n",
    "\n",
    "nc.close()"
   ]
  }
 ],
 "metadata": {
  "kernelspec": {
   "display_name": "wradlib",
   "language": "python",
   "name": "python3"
  },
  "language_info": {
   "codemirror_mode": {
    "name": "ipython",
    "version": 3
   },
   "file_extension": ".py",
   "mimetype": "text/x-python",
   "name": "python",
   "nbconvert_exporter": "python",
   "pygments_lexer": "ipython3",
   "version": "3.11.0"
  }
 },
 "nbformat": 4,
 "nbformat_minor": 2
}
